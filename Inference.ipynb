{
  "nbformat": 4,
  "nbformat_minor": 0,
  "metadata": {
    "colab": {
      "provenance": []
    },
    "kernelspec": {
      "name": "python3",
      "display_name": "Python 3"
    },
    "language_info": {
      "name": "python"
    }
  },
  "cells": [
    {
      "cell_type": "markdown",
      "source": [
        "# Inference\n",
        "\n",
        "In this notebook, we will walk through the process of loading a trained model from a pickle file and using it for making inference on a test image. We will be using the fastai library, which we used for training the model.\n",
        "\n",
        "\n",
        "We start by performing the necessary imports"
      ],
      "metadata": {
        "id": "dZRhHXTO54S_"
      }
    },
    {
      "cell_type": "code",
      "execution_count": null,
      "metadata": {
        "id": "BM7nY46xSULj"
      },
      "outputs": [],
      "source": [
        "! [ -e /content ] && pip install -Uqq fastai"
      ]
    },
    {
      "cell_type": "code",
      "source": [
        "from fastai.vision.all import *"
      ],
      "metadata": {
        "id": "8xzYICIBSYnA"
      },
      "execution_count": null,
      "outputs": []
    },
    {
      "cell_type": "markdown",
      "source": [
        "# Load your trained model\n",
        "\n",
        "Next, we'll load the trained model from the pickle file. Make sure to update the path_to_pickle variable with the correct path to your pickle file.\n",
        "\n",
        "Important detail: in fastai, when we export the model with pickle, this is serializing all the extra stuff we used in building the model. In our case, we used an extra fuction for distinguising between the labels. \n",
        "\n",
        "For loading the model without any issues, we need to define again here that same function."
      ],
      "metadata": {
        "id": "FWQredv-SgjF"
      }
    },
    {
      "cell_type": "code",
      "source": [
        "def label_func(f): return f[0].isupper()"
      ],
      "metadata": {
        "id": "5i9VOVQuVUFE"
      },
      "execution_count": null,
      "outputs": []
    },
    {
      "cell_type": "code",
      "source": [
        "# !ls drive/MyDrive/PyLadies/Meetup\n",
        "trained_model = load_learner('path/to/your/model.pkl')"
      ],
      "metadata": {
        "id": "ABDKgSZ3Sf0X"
      },
      "execution_count": null,
      "outputs": []
    },
    {
      "cell_type": "markdown",
      "source": [
        "Once we have loaded the model, we can upload a test image here in Google Colab and test the results!"
      ],
      "metadata": {
        "id": "A8-GNiHKIIwc"
      }
    },
    {
      "cell_type": "code",
      "source": [
        "trained_model.predict('Cat.jpg')"
      ],
      "metadata": {
        "colab": {
          "base_uri": "https://localhost:8080/",
          "height": 34
        },
        "id": "PxvtC_HPVRJQ",
        "outputId": "9ca6df0a-0bf5-450d-819c-63f7ddb7fde5"
      },
      "execution_count": null,
      "outputs": [
        {
          "output_type": "display_data",
          "data": {
            "text/plain": [
              "<IPython.core.display.HTML object>"
            ],
            "text/html": [
              "\n",
              "<style>\n",
              "    /* Turns off some styling */\n",
              "    progress {\n",
              "        /* gets rid of default border in Firefox and Opera. */\n",
              "        border: none;\n",
              "        /* Needs to be in here for Safari polyfill so background images work as expected. */\n",
              "        background-size: auto;\n",
              "    }\n",
              "    progress:not([value]), progress:not([value])::-webkit-progress-bar {\n",
              "        background: repeating-linear-gradient(45deg, #7e7e7e, #7e7e7e 10px, #5c5c5c 10px, #5c5c5c 20px);\n",
              "    }\n",
              "    .progress-bar-interrupted, .progress-bar-interrupted::-webkit-progress-bar {\n",
              "        background: #F44336;\n",
              "    }\n",
              "</style>\n"
            ]
          },
          "metadata": {}
        },
        {
          "output_type": "display_data",
          "data": {
            "text/plain": [
              "<IPython.core.display.HTML object>"
            ],
            "text/html": []
          },
          "metadata": {}
        },
        {
          "output_type": "execute_result",
          "data": {
            "text/plain": [
              "('True', tensor(1), tensor([6.1433e-13, 1.0000e+00]))"
            ]
          },
          "metadata": {},
          "execution_count": 12
        }
      ]
    },
    {
      "cell_type": "code",
      "source": [
        "trained_model.dls.vocab"
      ],
      "metadata": {
        "colab": {
          "base_uri": "https://localhost:8080/"
        },
        "id": "FsQ1C_msVc0D",
        "outputId": "4caf3bd8-5335-40d0-9de0-b87f864b1f0f"
      },
      "execution_count": null,
      "outputs": [
        {
          "output_type": "execute_result",
          "data": {
            "text/plain": [
              "[False, True]"
            ]
          },
          "metadata": {},
          "execution_count": 10
        }
      ]
    },
    {
      "cell_type": "code",
      "source": [],
      "metadata": {
        "id": "eGc8Az6TVkkI"
      },
      "execution_count": null,
      "outputs": []
    }
  ]
}